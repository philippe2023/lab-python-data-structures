{
 "cells": [
  {
   "cell_type": "markdown",
   "metadata": {
    "tags": []
   },
   "source": [
    "# Lab | Data Structures "
   ]
  },
  {
   "cell_type": "markdown",
   "metadata": {},
   "source": [
    "## Exercise: Managing Customer Orders\n",
    "\n",
    "As part of a business venture, you are starting an online store that sells various products. To ensure smooth operations, you need to develop a program that manages customer orders and inventory.\n",
    "\n",
    "Follow the steps below to complete the exercise:\n",
    "\n",
    "1. Define a list called `products` that contains the following items: \"t-shirt\", \"mug\", \"hat\", \"book\", \"keychain\".\n",
    "\n",
    "2. Create an empty dictionary called `inventory`.\n",
    "\n",
    "3. Ask the user to input the quantity of each product available in the inventory. Use the product names from the `products` list as keys in the `inventory` dictionary and assign the respective quantities as values.\n",
    "\n",
    "4. Create an empty set called `customer_orders`.\n",
    "\n",
    "5. Ask the user to input the name of three products that a customer wants to order (from those in the products list, meaning three products out of \"t-shirt\", \"mug\", \"hat\", \"book\" or \"keychain\". Add each product name to the `customer_orders` set.\n",
    "\n",
    "6. Print the products in the `customer_orders` set.\n",
    "\n",
    "7. Calculate the following order statistics:\n",
    "   - Total Products Ordered: The total number of products in the `customer_orders` set.\n",
    "   - Percentage of Products Ordered: The percentage of products ordered compared to the total available products.\n",
    "   \n",
    "   Store these statistics in a tuple called `order_status`.\n",
    "\n",
    "8. Print the order statistics using the following format:\n",
    "   ```\n",
    "   Order Statistics:\n",
    "   Total Products Ordered: <total_products_ordered>\n",
    "   Percentage of Products Ordered: <percentage_ordered>% \n",
    "   ```\n",
    "\n",
    "9. Update the inventory by subtracting 1 from the quantity of each product. Modify the `inventory` dictionary accordingly.\n",
    "\n",
    "10. Print the updated inventory, displaying the quantity of each product on separate lines.\n",
    "\n",
    "Solve the exercise by implementing the steps using the Python concepts of lists, dictionaries, sets, and basic input/output operations. "
   ]
  },
  {
   "cell_type": "markdown",
   "metadata": {},
   "source": [
    "**My Solution:**"
   ]
  },
  {
   "cell_type": "code",
   "execution_count": 10,
   "metadata": {},
   "outputs": [],
   "source": [
    "# define the product list\n",
    "products = [\"t-shirt\", \"mug\", \"hat\", \"book\", \"keychain\"]"
   ]
  },
  {
   "cell_type": "code",
   "execution_count": 8,
   "metadata": {},
   "outputs": [],
   "source": [
    "# empty dictionary called inventory\n",
    "inventory = {}"
   ]
  },
  {
   "cell_type": "code",
   "execution_count": 24,
   "metadata": {},
   "outputs": [
    {
     "name": "stdin",
     "output_type": "stream",
     "text": [
      "Please input the current inventory for t-shirt:  15\n",
      "Please input the current inventory for mug:  22\n",
      "Please input the current inventory for hat:  10\n",
      "Please input the current inventory for book:  16\n",
      "Please input the current inventory for keychain:  20\n"
     ]
    },
    {
     "name": "stdout",
     "output_type": "stream",
     "text": [
      "{'t-shirt': '15', 'mug': '22', 'hat': '10', 'book': '16', 'keychain': '20'}\n"
     ]
    }
   ],
   "source": [
    "# Ask the user to input the quantity of each product available in the inventory.\n",
    "for product in products:\n",
    "    quantity = input(f\"Please input the current inventory for {product}: \")\n",
    "    # get the values and keys in the dict\n",
    "    inventory[product] = quantity\n",
    "    # display the dict\n",
    "print(inventory)"
   ]
  },
  {
   "cell_type": "code",
   "execution_count": 32,
   "metadata": {},
   "outputs": [],
   "source": [
    "# empty set called customer_orders\n",
    "customer_orders = set()"
   ]
  },
  {
   "cell_type": "code",
   "execution_count": 38,
   "metadata": {},
   "outputs": [
    {
     "name": "stdin",
     "output_type": "stream",
     "text": [
      "Please enter which item would you like to buy:  toy\n"
     ]
    },
    {
     "name": "stdout",
     "output_type": "stream",
     "text": [
      "Sorry but this item, toy is not available in our store.\n"
     ]
    },
    {
     "name": "stdin",
     "output_type": "stream",
     "text": [
      "Please select another item from the list ['t-shirt', 'mug', 'hat', 'book', 'keychain']:  mug\n",
      "Please enter which item would you like to buy:  book\n",
      "Please enter which item would you like to buy:  hat\n"
     ]
    },
    {
     "name": "stdout",
     "output_type": "stream",
     "text": [
      "{'hat', 'book', 'mug'}\n"
     ]
    }
   ],
   "source": [
    "# empty set called customer_orders\n",
    "for wish_item in range(3):\n",
    "    order = input(\"Please enter which item would you like to buy: \").strip().lower()\n",
    "    if order in products:\n",
    "        customer_orders.add(order)\n",
    "    else:\n",
    "        print(f\"Sorry but this item, {order} is not available in our store.\")\n",
    "        correct_item = input(f\"Please select another item from the list {products}: \")\n",
    "        customer_orders.add(correct_item)\n",
    "# display the set\n",
    "print(customer_orders)"
   ]
  },
  {
   "cell_type": "code",
   "execution_count": 75,
   "metadata": {},
   "outputs": [
    {
     "name": "stdout",
     "output_type": "stream",
     "text": [
      "Thank you for your order.\n",
      "I will now confirm your order as follows: \n",
      "-> Your item number 1 is hat.\n",
      "-> Your item number 2 is book.\n",
      "-> Your item number 3 is mug.\n"
     ]
    }
   ],
   "source": [
    "# Print the products in the customer_orders set\n",
    "print(\"Thank you for your order.\")\n",
    "print(\"I will now confirm your order as follows: \")\n",
    "for index, customer_order in enumerate(customer_orders):\n",
    "    print(f\"-> Your item number {index+1} is {customer_order}.\")"
   ]
  },
  {
   "cell_type": "code",
   "execution_count": 93,
   "metadata": {},
   "outputs": [
    {
     "ename": "KeyError",
     "evalue": "'20'",
     "output_type": "error",
     "traceback": [
      "\u001b[0;31m---------------------------------------------------------------------------\u001b[0m",
      "\u001b[0;31mKeyError\u001b[0m                                  Traceback (most recent call last)",
      "Cell \u001b[0;32mIn[93], line 4\u001b[0m\n\u001b[1;32m      1\u001b[0m \u001b[38;5;66;03m# Calculate the order statistics\u001b[39;00m\n\u001b[1;32m      2\u001b[0m \u001b[38;5;66;03m# Total Products Ordered: The total number of products in the customer_orders set.\u001b[39;00m\n\u001b[1;32m      3\u001b[0m total_customer_orders \u001b[38;5;241m=\u001b[39m \u001b[38;5;28mlen\u001b[39m(customer_orders)\n\u001b[0;32m----> 4\u001b[0m total_inventory_items \u001b[38;5;241m=\u001b[39m \u001b[38;5;28mlen\u001b[39m(inventory[quantity])\n\u001b[1;32m      5\u001b[0m \u001b[38;5;28mprint\u001b[39m(total_inventory_items)\n",
      "\u001b[0;31mKeyError\u001b[0m: '20'"
     ]
    }
   ],
   "source": [
    "# Calculate the order statistics\n",
    "# Total Products Ordered: The total number of products in the customer_orders set.\n",
    "total_customer_orders = len(customer_orders)\n",
    "total_inventory_items = len(inventory[quantity])\n",
    "print(total_inventory_items)"
   ]
  },
  {
   "cell_type": "code",
   "execution_count": 85,
   "metadata": {},
   "outputs": [],
   "source": [
    "# Calculate the order statistics\n",
    "# Percentage of Products Ordered: The percentage of products ordered compared to the total available products."
   ]
  },
  {
   "cell_type": "code",
   "execution_count": null,
   "metadata": {},
   "outputs": [],
   "source": [
    "# Store these statistics in a tuple called order_status."
   ]
  }
 ],
 "metadata": {
  "kernelspec": {
   "display_name": "Python 3 (ipykernel)",
   "language": "python",
   "name": "python3"
  },
  "language_info": {
   "codemirror_mode": {
    "name": "ipython",
    "version": 3
   },
   "file_extension": ".py",
   "mimetype": "text/x-python",
   "name": "python",
   "nbconvert_exporter": "python",
   "pygments_lexer": "ipython3",
   "version": "3.12.4"
  }
 },
 "nbformat": 4,
 "nbformat_minor": 4
}
